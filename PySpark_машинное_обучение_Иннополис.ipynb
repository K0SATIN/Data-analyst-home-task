{
  "nbformat": 4,
  "nbformat_minor": 0,
  "metadata": {
    "colab": {
      "provenance": [],
      "include_colab_link": true
    },
    "kernelspec": {
      "name": "python3",
      "display_name": "Python 3"
    },
    "language_info": {
      "name": "python"
    }
  },
  "cells": [
    {
      "cell_type": "markdown",
      "metadata": {
        "id": "view-in-github",
        "colab_type": "text"
      },
      "source": [
        "<a href=\"https://colab.research.google.com/github/K0SATIN/Data-analyst-home-task/blob/main/PySpark_%D0%BC%D0%B0%D1%88%D0%B8%D0%BD%D0%BD%D0%BE%D0%B5_%D0%BE%D0%B1%D1%83%D1%87%D0%B5%D0%BD%D0%B8%D0%B5_%D0%98%D0%BD%D0%BD%D0%BE%D0%BF%D0%BE%D0%BB%D0%B8%D1%81.ipynb\" target=\"_parent\"><img src=\"https://colab.research.google.com/assets/colab-badge.svg\" alt=\"Open In Colab\"/></a>"
      ]
    },
    {
      "cell_type": "code",
      "metadata": {
        "id": "kAQ8GyNben4f",
        "colab": {
          "base_uri": "https://localhost:8080/"
        },
        "outputId": "8d0dbbc6-ac95-46c7-96b8-ad4f07e97051"
      },
      "source": [
        "!apt-get update"
      ],
      "execution_count": null,
      "outputs": [
        {
          "output_type": "stream",
          "name": "stdout",
          "text": [
            "\r0% [Working]\r            \rGet:1 https://cloud.r-project.org/bin/linux/ubuntu jammy-cran40/ InRelease [3,626 B]\n",
            "Hit:2 https://developer.download.nvidia.com/compute/cuda/repos/ubuntu2204/x86_64  InRelease\n",
            "Get:3 http://security.ubuntu.com/ubuntu jammy-security InRelease [129 kB]\n",
            "Hit:4 http://archive.ubuntu.com/ubuntu jammy InRelease\n",
            "Ign:5 https://r2u.stat.illinois.edu/ubuntu jammy InRelease\n",
            "Get:6 http://archive.ubuntu.com/ubuntu jammy-updates InRelease [128 kB]\n",
            "Get:7 https://r2u.stat.illinois.edu/ubuntu jammy Release [5,713 B]\n",
            "Get:8 https://r2u.stat.illinois.edu/ubuntu jammy Release.gpg [793 B]\n",
            "Hit:9 http://archive.ubuntu.com/ubuntu jammy-backports InRelease\n",
            "Hit:10 https://ppa.launchpadcontent.net/deadsnakes/ppa/ubuntu jammy InRelease\n",
            "Get:11 https://ppa.launchpadcontent.net/graphics-drivers/ppa/ubuntu jammy InRelease [24.3 kB]\n",
            "Hit:12 https://ppa.launchpadcontent.net/ubuntugis/ppa/ubuntu jammy InRelease\n",
            "Get:13 https://r2u.stat.illinois.edu/ubuntu jammy/main amd64 Packages [2,593 kB]\n",
            "Get:14 http://archive.ubuntu.com/ubuntu jammy-updates/universe amd64 Packages [1,447 kB]\n",
            "Get:15 https://r2u.stat.illinois.edu/ubuntu jammy/main all Packages [8,370 kB]\n",
            "Get:16 http://archive.ubuntu.com/ubuntu jammy-updates/main amd64 Packages [2,596 kB]\n",
            "Get:17 http://security.ubuntu.com/ubuntu jammy-security/universe amd64 Packages [1,159 kB]\n",
            "Get:18 http://security.ubuntu.com/ubuntu jammy-security/main amd64 Packages [2,318 kB]\n",
            "Get:19 https://ppa.launchpadcontent.net/graphics-drivers/ppa/ubuntu jammy/main amd64 Packages [54.3 kB]\n",
            "Fetched 18.8 MB in 7s (2,710 kB/s)\n",
            "Reading package lists... Done\n",
            "W: Skipping acquire of configured file 'main/source/Sources' as repository 'https://r2u.stat.illinois.edu/ubuntu jammy InRelease' does not seem to provide it (sources.list entry misspelt?)\n"
          ]
        }
      ]
    },
    {
      "cell_type": "code",
      "metadata": {
        "id": "H-hmqKJAexVl"
      },
      "source": [
        "!apt-get install openjdk-8-jdk-headless -qq > /dev/null"
      ],
      "execution_count": null,
      "outputs": []
    },
    {
      "cell_type": "code",
      "metadata": {
        "id": "6IMZAEEPe6rN"
      },
      "source": [
        "!wget -q https://dlcdn.apache.org/spark/spark-3.5.3/spark-3.5.3-bin-hadoop3-scala2.13.tgz"
      ],
      "execution_count": null,
      "outputs": []
    },
    {
      "cell_type": "code",
      "metadata": {
        "id": "Sgbbw1CPe84W"
      },
      "source": [
        "!tar -xvf spark-3.5.3-bin-hadoop3-scala2.13.tgz"
      ],
      "execution_count": null,
      "outputs": []
    },
    {
      "cell_type": "code",
      "metadata": {
        "id": "4Xd17cO0e_CC"
      },
      "source": [
        "!pip install -q findspark"
      ],
      "execution_count": null,
      "outputs": []
    },
    {
      "cell_type": "code",
      "metadata": {
        "id": "B0lCwoIEfBhT"
      },
      "source": [
        "import os\n",
        "os.environ[\"JAVA_HOME\"] = \"/usr/lib/jvm/java-8-openjdk-amd64\"\n",
        "os.environ[\"SPARK_HOME\"] = \"/content/spark-3.5.3-bin-hadoop3-scala2.13\""
      ],
      "execution_count": null,
      "outputs": []
    },
    {
      "cell_type": "code",
      "source": [
        "import findspark\n",
        "findspark.init()\n",
        "from pyspark.sql import SparkSession\n",
        "\n",
        "spark = SparkSession.builder.master(\"local[*]\").getOrCreate()\n",
        "sc = spark.sparkContext"
      ],
      "metadata": {
        "id": "29eM_CQsBkX5"
      },
      "execution_count": null,
      "outputs": []
    },
    {
      "cell_type": "code",
      "source": [
        "!wget -q https://gitlab.com/K0SATIN/store/-/raw/master/iris.CSV"
      ],
      "metadata": {
        "id": "l5_Z0584oIYX"
      },
      "execution_count": null,
      "outputs": []
    },
    {
      "cell_type": "code",
      "source": [
        "import numpy as np\n",
        "import pandas as pd\n",
        "import seaborn as sns\n",
        "import matplotlib as mpl"
      ],
      "metadata": {
        "id": "vX1mXWLqBajc"
      },
      "execution_count": null,
      "outputs": []
    },
    {
      "cell_type": "code",
      "source": [
        "import pyspark\n",
        "from pyspark.sql.functions import lit"
      ],
      "metadata": {
        "id": "J9fdh7aTRwcP"
      },
      "execution_count": null,
      "outputs": []
    },
    {
      "cell_type": "code",
      "source": [
        "from pyspark.sql.functions import col, asc, desc, when\n",
        "from pyspark.ml.feature import StringIndexer, OneHotEncoder, VectorAssembler\n",
        "from pyspark.ml.classification import LogisticRegression\n",
        "from pyspark.ml.evaluation import MulticlassClassificationEvaluator"
      ],
      "metadata": {
        "id": "UuVu-5N4hLq3"
      },
      "execution_count": null,
      "outputs": []
    },
    {
      "cell_type": "code",
      "source": [
        "df = spark.read.csv('iris.CSV', inferSchema = True, header = True)"
      ],
      "metadata": {
        "id": "vXBlSHU1on5C"
      },
      "execution_count": null,
      "outputs": []
    },
    {
      "cell_type": "code",
      "source": [
        "indexer = StringIndexer(inputCol=\"variety\", outputCol=\"variety_ID\")\n",
        "indexerModel = indexer.fit(df)\n",
        "df = indexerModel.transform(df)\n",
        "df.show()"
      ],
      "metadata": {
        "id": "Dn9JY5oTz-pO"
      },
      "execution_count": null,
      "outputs": []
    },
    {
      "cell_type": "code",
      "source": [
        "assembler = VectorAssembler(\n",
        "    inputCols=[\"sepal_length\", \"sepal_width\",\"petal_length\", \"petal_width\"],\n",
        "    outputCol=\"features\")\n",
        "\n",
        "print('До:')\n",
        "df.show()\n",
        "print('После (обратите внимание на True и False):')\n",
        "output = assembler.transform(df)\n",
        "output.select(\"features\", \"variety_ID\").show(truncate=False)"
      ],
      "metadata": {
        "id": "Wm_oDdSpJuDZ",
        "colab": {
          "base_uri": "https://localhost:8080/"
        },
        "outputId": "7da60f6d-ea6c-4523-99be-7a80455b93d7"
      },
      "execution_count": null,
      "outputs": [
        {
          "output_type": "stream",
          "name": "stdout",
          "text": [
            "До:\n",
            "+------------+-----------+------------+-----------+-------+-----------+----------+\n",
            "|sepal_length|sepal_width|petal_length|petal_width|variety|variety_num|variety_ID|\n",
            "+------------+-----------+------------+-----------+-------+-----------+----------+\n",
            "|         5.1|        3.5|         1.4|        0.2| Setosa|          0|       0.0|\n",
            "|         4.9|        3.0|         1.4|        0.2| Setosa|          0|       0.0|\n",
            "|         4.7|        3.2|         1.3|        0.2| Setosa|          0|       0.0|\n",
            "|         4.6|        3.1|         1.5|        0.2| Setosa|          0|       0.0|\n",
            "|         5.0|        3.6|         1.4|        0.2| Setosa|          0|       0.0|\n",
            "|         5.4|        3.9|         1.7|        0.4| Setosa|          0|       0.0|\n",
            "|         4.6|        3.4|         1.4|        0.3| Setosa|          0|       0.0|\n",
            "|         5.0|        3.4|         1.5|        0.2| Setosa|          0|       0.0|\n",
            "|         4.4|        2.9|         1.4|        0.2| Setosa|          0|       0.0|\n",
            "|         4.9|        3.1|         1.5|        0.1| Setosa|          0|       0.0|\n",
            "|         5.4|        3.7|         1.5|        0.2| Setosa|          0|       0.0|\n",
            "|         4.8|        3.4|         1.6|        0.2| Setosa|          0|       0.0|\n",
            "|         4.8|        3.0|         1.4|        0.1| Setosa|          0|       0.0|\n",
            "|         4.3|        3.0|         1.1|        0.1| Setosa|          0|       0.0|\n",
            "|         5.8|        4.0|         1.2|        0.2| Setosa|          0|       0.0|\n",
            "|         5.7|        4.4|         1.5|        0.4| Setosa|          0|       0.0|\n",
            "|         5.4|        3.9|         1.3|        0.4| Setosa|          0|       0.0|\n",
            "|         5.1|        3.5|         1.4|        0.3| Setosa|          0|       0.0|\n",
            "|         5.7|        3.8|         1.7|        0.3| Setosa|          0|       0.0|\n",
            "|         5.1|        3.8|         1.5|        0.3| Setosa|          0|       0.0|\n",
            "+------------+-----------+------------+-----------+-------+-----------+----------+\n",
            "only showing top 20 rows\n",
            "\n",
            "После (обратите внимание на True и False):\n",
            "+-----------------+----------+\n",
            "|features         |variety_ID|\n",
            "+-----------------+----------+\n",
            "|[5.1,3.5,1.4,0.2]|0.0       |\n",
            "|[4.9,3.0,1.4,0.2]|0.0       |\n",
            "|[4.7,3.2,1.3,0.2]|0.0       |\n",
            "|[4.6,3.1,1.5,0.2]|0.0       |\n",
            "|[5.0,3.6,1.4,0.2]|0.0       |\n",
            "|[5.4,3.9,1.7,0.4]|0.0       |\n",
            "|[4.6,3.4,1.4,0.3]|0.0       |\n",
            "|[5.0,3.4,1.5,0.2]|0.0       |\n",
            "|[4.4,2.9,1.4,0.2]|0.0       |\n",
            "|[4.9,3.1,1.5,0.1]|0.0       |\n",
            "|[5.4,3.7,1.5,0.2]|0.0       |\n",
            "|[4.8,3.4,1.6,0.2]|0.0       |\n",
            "|[4.8,3.0,1.4,0.1]|0.0       |\n",
            "|[4.3,3.0,1.1,0.1]|0.0       |\n",
            "|[5.8,4.0,1.2,0.2]|0.0       |\n",
            "|[5.7,4.4,1.5,0.4]|0.0       |\n",
            "|[5.4,3.9,1.3,0.4]|0.0       |\n",
            "|[5.1,3.5,1.4,0.3]|0.0       |\n",
            "|[5.7,3.8,1.7,0.3]|0.0       |\n",
            "|[5.1,3.8,1.5,0.3]|0.0       |\n",
            "+-----------------+----------+\n",
            "only showing top 20 rows\n",
            "\n"
          ]
        }
      ]
    },
    {
      "cell_type": "code",
      "source": [
        "output.select(\"features\", \"variety\")\n",
        "output.show()"
      ],
      "metadata": {
        "colab": {
          "base_uri": "https://localhost:8080/"
        },
        "id": "RGlv1RmixWYm",
        "outputId": "281d27d9-6ff1-4cb6-9ac2-fb3deac6db51"
      },
      "execution_count": null,
      "outputs": [
        {
          "output_type": "stream",
          "name": "stdout",
          "text": [
            "+------------+-----------+------------+-----------+-------+-----------+----------+-----------------+\n",
            "|sepal_length|sepal_width|petal_length|petal_width|variety|variety_num|variety_ID|         features|\n",
            "+------------+-----------+------------+-----------+-------+-----------+----------+-----------------+\n",
            "|         5.1|        3.5|         1.4|        0.2| Setosa|          0|       0.0|[5.1,3.5,1.4,0.2]|\n",
            "|         4.9|        3.0|         1.4|        0.2| Setosa|          0|       0.0|[4.9,3.0,1.4,0.2]|\n",
            "|         4.7|        3.2|         1.3|        0.2| Setosa|          0|       0.0|[4.7,3.2,1.3,0.2]|\n",
            "|         4.6|        3.1|         1.5|        0.2| Setosa|          0|       0.0|[4.6,3.1,1.5,0.2]|\n",
            "|         5.0|        3.6|         1.4|        0.2| Setosa|          0|       0.0|[5.0,3.6,1.4,0.2]|\n",
            "|         5.4|        3.9|         1.7|        0.4| Setosa|          0|       0.0|[5.4,3.9,1.7,0.4]|\n",
            "|         4.6|        3.4|         1.4|        0.3| Setosa|          0|       0.0|[4.6,3.4,1.4,0.3]|\n",
            "|         5.0|        3.4|         1.5|        0.2| Setosa|          0|       0.0|[5.0,3.4,1.5,0.2]|\n",
            "|         4.4|        2.9|         1.4|        0.2| Setosa|          0|       0.0|[4.4,2.9,1.4,0.2]|\n",
            "|         4.9|        3.1|         1.5|        0.1| Setosa|          0|       0.0|[4.9,3.1,1.5,0.1]|\n",
            "|         5.4|        3.7|         1.5|        0.2| Setosa|          0|       0.0|[5.4,3.7,1.5,0.2]|\n",
            "|         4.8|        3.4|         1.6|        0.2| Setosa|          0|       0.0|[4.8,3.4,1.6,0.2]|\n",
            "|         4.8|        3.0|         1.4|        0.1| Setosa|          0|       0.0|[4.8,3.0,1.4,0.1]|\n",
            "|         4.3|        3.0|         1.1|        0.1| Setosa|          0|       0.0|[4.3,3.0,1.1,0.1]|\n",
            "|         5.8|        4.0|         1.2|        0.2| Setosa|          0|       0.0|[5.8,4.0,1.2,0.2]|\n",
            "|         5.7|        4.4|         1.5|        0.4| Setosa|          0|       0.0|[5.7,4.4,1.5,0.4]|\n",
            "|         5.4|        3.9|         1.3|        0.4| Setosa|          0|       0.0|[5.4,3.9,1.3,0.4]|\n",
            "|         5.1|        3.5|         1.4|        0.3| Setosa|          0|       0.0|[5.1,3.5,1.4,0.3]|\n",
            "|         5.7|        3.8|         1.7|        0.3| Setosa|          0|       0.0|[5.7,3.8,1.7,0.3]|\n",
            "|         5.1|        3.8|         1.5|        0.3| Setosa|          0|       0.0|[5.1,3.8,1.5,0.3]|\n",
            "+------------+-----------+------------+-----------+-------+-----------+----------+-----------------+\n",
            "only showing top 20 rows\n",
            "\n"
          ]
        }
      ]
    },
    {
      "cell_type": "code",
      "source": [
        "train, test = output.randomSplit([0.8, 0.2], seed=12321) #делим в пропорции 80/20"
      ],
      "metadata": {
        "id": "KNhyGpxQ25cD"
      },
      "execution_count": null,
      "outputs": []
    },
    {
      "cell_type": "code",
      "source": [
        "train.show(3)\n",
        "test.show(3)"
      ],
      "metadata": {
        "id": "UD3bwoNY41Ag"
      },
      "execution_count": null,
      "outputs": []
    },
    {
      "cell_type": "code",
      "source": [
        "lr = LogisticRegression(featuresCol = 'features', labelCol='variety_ID')\n",
        "model = lr.fit(train)\n",
        "train_result = model.transform(train)\n",
        "test_result = model.transform(test)\n",
        "train_result.show(10)"
      ],
      "metadata": {
        "colab": {
          "base_uri": "https://localhost:8080/"
        },
        "id": "o-V8nkMi4hU5",
        "outputId": "79933ad0-9db1-4a13-e4bc-9abf39c14b16"
      },
      "execution_count": null,
      "outputs": [
        {
          "output_type": "stream",
          "name": "stdout",
          "text": [
            "+------------+-----------+------------+-----------+-------+-----------+----------+-----------------+--------------------+--------------------+----------+\n",
            "|sepal_length|sepal_width|petal_length|petal_width|variety|variety_num|variety_ID|         features|       rawPrediction|         probability|prediction|\n",
            "+------------+-----------+------------+-----------+-------+-----------+----------+-----------------+--------------------+--------------------+----------+\n",
            "|         4.3|        3.0|         1.1|        0.1| Setosa|          0|       0.0|[4.3,3.0,1.1,0.1]|[180.330077760766...|[1.0,2.0484113091...|       0.0|\n",
            "|         4.4|        2.9|         1.4|        0.2| Setosa|          0|       0.0|[4.4,2.9,1.4,0.2]|[154.421530588290...|[1.0,1.3413173979...|       0.0|\n",
            "|         4.4|        3.0|         1.3|        0.2| Setosa|          0|       0.0|[4.4,3.0,1.3,0.2]|[165.826079746254...|[1.0,1.0771087847...|       0.0|\n",
            "|         4.5|        2.3|         1.3|        0.3| Setosa|          0|       0.0|[4.5,2.3,1.3,0.3]|[98.6075844846780...|[1.0,2.9597535613...|       0.0|\n",
            "|         4.6|        3.1|         1.5|        0.2| Setosa|          0|       0.0|[4.6,3.1,1.5,0.2]|[163.538479095622...|[1.0,2.4151389483...|       0.0|\n",
            "|         4.6|        3.2|         1.4|        0.2| Setosa|          0|       0.0|[4.6,3.2,1.4,0.2]|[174.943028253587...|[1.0,1.9394122388...|       0.0|\n",
            "|         4.6|        3.4|         1.4|        0.3| Setosa|          0|       0.0|[4.6,3.4,1.4,0.3]|[185.574645649521...|[1.0,1.7910855972...|       0.0|\n",
            "|         4.6|        3.6|         1.0|        0.2| Setosa|          0|       0.0|[4.6,3.6,1.0,0.2]|[220.561224885444...|[1.0,8.0645877668...|       0.0|\n",
            "|         4.7|        3.2|         1.3|        0.2| Setosa|          0|       0.0|[4.7,3.2,1.3,0.2]|[175.629549698923...|[1.0,1.2034802671...|       0.0|\n",
            "|         4.7|        3.2|         1.6|        0.2| Setosa|          0|       0.0|[4.7,3.2,1.6,0.2]|[166.590434079362...|[1.0,2.4928094922...|       0.0|\n",
            "+------------+-----------+------------+-----------+-------+-----------+----------+-----------------+--------------------+--------------------+----------+\n",
            "only showing top 10 rows\n",
            "\n"
          ]
        }
      ]
    },
    {
      "cell_type": "code",
      "source": [
        "ev = MulticlassClassificationEvaluator(labelCol='variety_ID')\n",
        "print('Обучающая выборка:', ev.evaluate(train_result))\n",
        "print('Тестовая выборка:', ev.evaluate(test_result))"
      ],
      "metadata": {
        "colab": {
          "base_uri": "https://localhost:8080/"
        },
        "id": "_0raDXX7VBgV",
        "outputId": "122cc29d-1442-4a95-9466-c9e590e59204"
      },
      "execution_count": null,
      "outputs": [
        {
          "output_type": "stream",
          "name": "stdout",
          "text": [
            "Обучающая выборка: 0.983050847457627\n",
            "Тестовая выборка: 1.0\n"
          ]
        }
      ]
    }
  ]
}