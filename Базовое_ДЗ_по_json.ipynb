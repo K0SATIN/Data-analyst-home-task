{
  "nbformat": 4,
  "nbformat_minor": 0,
  "metadata": {
    "colab": {
      "provenance": [],
      "authorship_tag": "ABX9TyPIiBnws98zeqc5zkESXpu2",
      "include_colab_link": true
    },
    "kernelspec": {
      "name": "python3",
      "display_name": "Python 3"
    },
    "language_info": {
      "name": "python"
    }
  },
  "cells": [
    {
      "cell_type": "markdown",
      "metadata": {
        "id": "view-in-github",
        "colab_type": "text"
      },
      "source": [
        "<a href=\"https://colab.research.google.com/github/K0SATIN/Data-analyst-home-task/blob/main/%D0%91%D0%B0%D0%B7%D0%BE%D0%B2%D0%BE%D0%B5_%D0%94%D0%97_%D0%BF%D0%BE_json.ipynb\" target=\"_parent\"><img src=\"https://colab.research.google.com/assets/colab-badge.svg\" alt=\"Open In Colab\"/></a>"
      ]
    },
    {
      "cell_type": "code",
      "source": [
        "import json\n",
        "country= json.load(open('/content/sample_data/countries.json'))\n",
        "a = ''\n",
        "for i in country:\n",
        "  a = i['name']\n",
        "  if a.find('A') > -1:\n",
        "    print(a)"
      ],
      "metadata": {
        "colab": {
          "base_uri": "https://localhost:8080/"
        },
        "id": "6k5fjGi-cV0g",
        "outputId": "4f0c0f50-d9aa-4588-bb4e-a01e6d1d5d2b"
      },
      "execution_count": null,
      "outputs": [
        {
          "output_type": "stream",
          "name": "stdout",
          "text": [
            "Afghanistan\n",
            "Albania\n",
            "Algeria\n",
            "American Samoa\n",
            "AndorrA\n",
            "Angola\n",
            "Anguilla\n",
            "Antarctica\n",
            "Antigua and Barbuda\n",
            "Argentina\n",
            "Armenia\n",
            "Aruba\n",
            "Australia\n",
            "Austria\n",
            "Azerbaijan\n",
            "Central African Republic\n",
            "Libyan Arab Jamahiriya\n",
            "Netherlands Antilles\n",
            "RWANDA\n",
            "Saudi Arabia\n",
            "South Africa\n",
            "Syrian Arab Republic\n",
            "United Arab Emirates\n"
          ]
        }
      ]
    }
  ]
}